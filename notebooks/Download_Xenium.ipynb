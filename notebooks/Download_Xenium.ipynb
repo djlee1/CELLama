{
 "cells": [
  {
   "cell_type": "code",
   "execution_count": 2,
   "id": "8c309fb8-73a7-4420-b37c-eeba0c08f069",
   "metadata": {},
   "outputs": [
    {
     "name": "stdout",
     "output_type": "stream",
     "text": [
      "--2024-03-09 22:31:51--  https://cf.10xgenomics.com/samples/xenium/2.0.0/Xenium_V1_humanLung_Cancer_FFPE/Xenium_V1_humanLung_Cancer_FFPE_outs.zip\n",
      "Resolving cf.10xgenomics.com (cf.10xgenomics.com)... 104.18.1.173, 104.18.0.173, 2606:4700::6812:ad, ...\n",
      "Connecting to cf.10xgenomics.com (cf.10xgenomics.com)|104.18.1.173|:443... connected.\n",
      "HTTP request sent, awaiting response... 200 OK\n",
      "Length: 7987586561 (7.4G) [application/zip]\n",
      "Saving to: ‘Xenium_V1_humanLung_Cancer_FFPE_outs.zip’\n",
      "\n",
      "Xenium_V1_humanLung 100%[===================>]   7.44G  8.47MB/s    in 19m 22s \n",
      "\n",
      "2024-03-09 22:51:14 (6.56 MB/s) - ‘Xenium_V1_humanLung_Cancer_FFPE_outs.zip’ saved [7987586561/7987586561]\n",
      "\n"
     ]
    }
   ],
   "source": [
    "!wget https://cf.10xgenomics.com/samples/xenium/2.0.0/Xenium_V1_humanLung_Cancer_FFPE/Xenium_V1_humanLung_Cancer_FFPE_outs.zip\n"
   ]
  },
  {
   "cell_type": "code",
   "execution_count": 3,
   "id": "b97e3d68-f209-4988-98ac-6649566fc6c3",
   "metadata": {},
   "outputs": [
    {
     "name": "stdout",
     "output_type": "stream",
     "text": [
      "Archive:  Xenium_V1_humanLung_Cancer_FFPE_outs.zip\n",
      " extracting: analysis.zarr.zip       \n",
      "  inflating: cell_boundaries.csv.gz  \n",
      "  inflating: cell_boundaries.parquet  \n",
      "  inflating: cell_feature_matrix.h5  \n",
      " extracting: cell_feature_matrix.zarr.zip  \n",
      "  inflating: cells.csv.gz            \n",
      "  inflating: cells.parquet           \n",
      " extracting: cells.zarr.zip          \n",
      "  inflating: experiment.xenium       \n",
      "  inflating: gene_panel.json         \n",
      "  inflating: metrics_summary.csv     \n",
      "  inflating: nucleus_boundaries.csv.gz  \n",
      "  inflating: nucleus_boundaries.parquet  \n",
      "  inflating: transcripts.csv.gz      \n",
      "  inflating: transcripts.parquet     \n",
      " extracting: transcripts.zarr.zip    \n",
      "  inflating: analysis_summary.html   \n",
      "  inflating: morphology.ome.tif      \n",
      "  inflating: analysis.tar.gz         \n",
      "  inflating: aux_outputs.tar.gz      \n",
      "  inflating: cell_feature_matrix.tar.gz  \n",
      "   creating: morphology_focus/\n",
      "  inflating: morphology_focus/morphology_focus_0000.ome.tif  \n",
      "  inflating: morphology_focus/morphology_focus_0001.ome.tif  \n",
      "  inflating: morphology_focus/morphology_focus_0002.ome.tif  \n",
      "  inflating: morphology_focus/morphology_focus_0003.ome.tif  \n"
     ]
    }
   ],
   "source": [
    "!unzip Xenium_V1_humanLung_Cancer_FFPE_outs.zip"
   ]
  },
  {
   "cell_type": "code",
   "execution_count": null,
   "id": "7d680ad9-0301-4712-8dda-4ea55d9f6e2b",
   "metadata": {},
   "outputs": [],
   "source": []
  }
 ],
 "metadata": {
  "kernelspec": {
   "display_name": "Python 3 (ipykernel)",
   "language": "python",
   "name": "python3"
  },
  "language_info": {
   "codemirror_mode": {
    "name": "ipython",
    "version": 3
   },
   "file_extension": ".py",
   "mimetype": "text/x-python",
   "name": "python",
   "nbconvert_exporter": "python",
   "pygments_lexer": "ipython3",
   "version": "3.9.18"
  }
 },
 "nbformat": 4,
 "nbformat_minor": 5
}

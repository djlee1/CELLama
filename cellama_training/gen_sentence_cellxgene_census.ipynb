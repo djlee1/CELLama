{
 "cells": [
  {
   "cell_type": "markdown",
   "id": "9b4fbfca-0741-4947-9389-ffa05239ed5f",
   "metadata": {},
   "source": [
    "## Generate Sentences for Training CELLama from cellxgene census"
   ]
  },
  {
   "cell_type": "code",
   "execution_count": 1,
   "id": "a0adbb65-91e5-4ef1-8dab-09b68f7871c9",
   "metadata": {},
   "outputs": [],
   "source": [
    "import cellxgene_census\n",
    "import scanpy\n",
    "import tiledbsoma as soma\n",
    "\n",
    "census_version = \"2023-12-15\"\n",
    "organism = \"homo_sapiens\"\n",
    "\n",
    "census = cellxgene_census.open_soma(census_version=census_version)\n",
    "\n",
    "experiment = census[\"census_data\"][organism]\n",
    "query = experiment.axis_query(\n",
    "    measurement_name=\"RNA\",\n",
    "    obs_query=soma.AxisQuery(),\n",
    ")"
   ]
  },
  {
   "cell_type": "code",
   "execution_count": 2,
   "id": "694f9187-954a-4691-aa63-a9e1153b40c1",
   "metadata": {},
   "outputs": [
    {
     "data": {
      "text/plain": [
       "62998417"
      ]
     },
     "execution_count": 2,
     "metadata": {},
     "output_type": "execute_result"
    }
   ],
   "source": [
    "query.n_obs\n"
   ]
  },
  {
   "cell_type": "code",
   "execution_count": 3,
   "id": "85b61468-bb6c-4177-995c-dbc123312f0a",
   "metadata": {},
   "outputs": [
    {
     "data": {
      "text/html": [
       "<div>\n",
       "<style scoped>\n",
       "    .dataframe tbody tr th:only-of-type {\n",
       "        vertical-align: middle;\n",
       "    }\n",
       "\n",
       "    .dataframe tbody tr th {\n",
       "        vertical-align: top;\n",
       "    }\n",
       "\n",
       "    .dataframe thead th {\n",
       "        text-align: right;\n",
       "    }\n",
       "</style>\n",
       "<table border=\"1\" class=\"dataframe\">\n",
       "  <thead>\n",
       "    <tr style=\"text-align: right;\">\n",
       "      <th></th>\n",
       "      <th>soma_joinid</th>\n",
       "      <th>collection_id</th>\n",
       "      <th>collection_name</th>\n",
       "      <th>collection_doi</th>\n",
       "      <th>dataset_id</th>\n",
       "      <th>dataset_version_id</th>\n",
       "      <th>dataset_title</th>\n",
       "      <th>dataset_h5ad_path</th>\n",
       "      <th>dataset_total_cell_count</th>\n",
       "    </tr>\n",
       "  </thead>\n",
       "  <tbody>\n",
       "    <tr>\n",
       "      <th>0</th>\n",
       "      <td>0</td>\n",
       "      <td>4dca242c-d302-4dba-a68f-4c61e7bad553</td>\n",
       "      <td>Comparative transcriptomics reveals human-spec...</td>\n",
       "      <td>10.1126/science.ade9516</td>\n",
       "      <td>2bdd3a2c-2ff4-4314-adf3-8a06b797a33a</td>\n",
       "      <td>7eb7f2fd-fd74-4c99-863c-97836415652e</td>\n",
       "      <td>Human: Great apes study</td>\n",
       "      <td>2bdd3a2c-2ff4-4314-adf3-8a06b797a33a.h5ad</td>\n",
       "      <td>156285</td>\n",
       "    </tr>\n",
       "    <tr>\n",
       "      <th>1</th>\n",
       "      <td>1</td>\n",
       "      <td>d17249d2-0e6e-4500-abb8-e6c93fa1ac6f</td>\n",
       "      <td>Transcriptomic cytoarchitecture reveals princi...</td>\n",
       "      <td>10.1126/science.adf6812</td>\n",
       "      <td>f5b0810c-1664-4a62-ad06-be1d9964aa8b</td>\n",
       "      <td>d4427196-7876-4bdd-a929-ae4d177ec776</td>\n",
       "      <td>Dissection: Angular gyrus (AnG)</td>\n",
       "      <td>f5b0810c-1664-4a62-ad06-be1d9964aa8b.h5ad</td>\n",
       "      <td>110752</td>\n",
       "    </tr>\n",
       "    <tr>\n",
       "      <th>2</th>\n",
       "      <td>2</td>\n",
       "      <td>d17249d2-0e6e-4500-abb8-e6c93fa1ac6f</td>\n",
       "      <td>Transcriptomic cytoarchitecture reveals princi...</td>\n",
       "      <td>10.1126/science.adf6812</td>\n",
       "      <td>e4ddac12-f48f-4455-8e8d-c2a48a683437</td>\n",
       "      <td>3280113b-7148-4a3e-98d4-015f443aab8a</td>\n",
       "      <td>Supercluster: CGE-derived interneurons</td>\n",
       "      <td>e4ddac12-f48f-4455-8e8d-c2a48a683437.h5ad</td>\n",
       "      <td>129495</td>\n",
       "    </tr>\n",
       "    <tr>\n",
       "      <th>3</th>\n",
       "      <td>3</td>\n",
       "      <td>d17249d2-0e6e-4500-abb8-e6c93fa1ac6f</td>\n",
       "      <td>Transcriptomic cytoarchitecture reveals princi...</td>\n",
       "      <td>10.1126/science.adf6812</td>\n",
       "      <td>e2808a6e-e2ea-41b9-b38c-4a08f1677f02</td>\n",
       "      <td>dc092185-3b8e-4fcb-ae21-1dc106d683ac</td>\n",
       "      <td>Dissection: Primary auditory cortex(A1)</td>\n",
       "      <td>e2808a6e-e2ea-41b9-b38c-4a08f1677f02.h5ad</td>\n",
       "      <td>139054</td>\n",
       "    </tr>\n",
       "    <tr>\n",
       "      <th>4</th>\n",
       "      <td>4</td>\n",
       "      <td>d17249d2-0e6e-4500-abb8-e6c93fa1ac6f</td>\n",
       "      <td>Transcriptomic cytoarchitecture reveals princi...</td>\n",
       "      <td>10.1126/science.adf6812</td>\n",
       "      <td>d01c9dff-abd1-4825-bf30-2eb2ba74597e</td>\n",
       "      <td>c4959ded-83dc-4442-aac7-9a59bdb47801</td>\n",
       "      <td>Supercluster: Deep layer (non-IT) excitatory n...</td>\n",
       "      <td>d01c9dff-abd1-4825-bf30-2eb2ba74597e.h5ad</td>\n",
       "      <td>92969</td>\n",
       "    </tr>\n",
       "    <tr>\n",
       "      <th>...</th>\n",
       "      <td>...</td>\n",
       "      <td>...</td>\n",
       "      <td>...</td>\n",
       "      <td>...</td>\n",
       "      <td>...</td>\n",
       "      <td>...</td>\n",
       "      <td>...</td>\n",
       "      <td>...</td>\n",
       "      <td>...</td>\n",
       "    </tr>\n",
       "    <tr>\n",
       "      <th>646</th>\n",
       "      <td>646</td>\n",
       "      <td>180bff9c-c8a5-4539-b13b-ddbc00d643e6</td>\n",
       "      <td>Molecular characterization of selectively vuln...</td>\n",
       "      <td>10.1038/s41593-020-00764-7</td>\n",
       "      <td>f9ad5649-f372-43e1-a3a8-423383e5a8a2</td>\n",
       "      <td>0912e658-ccd7-43e9-8d81-4349432115f9</td>\n",
       "      <td>Molecular characterization of selectively vuln...</td>\n",
       "      <td>f9ad5649-f372-43e1-a3a8-423383e5a8a2.h5ad</td>\n",
       "      <td>8168</td>\n",
       "    </tr>\n",
       "    <tr>\n",
       "      <th>647</th>\n",
       "      <td>647</td>\n",
       "      <td>a72afd53-ab92-4511-88da-252fb0e26b9a</td>\n",
       "      <td>Single-cell atlas of peripheral immune respons...</td>\n",
       "      <td>10.1038/s41591-020-0944-y</td>\n",
       "      <td>456e8b9b-f872-488b-871d-94534090a865</td>\n",
       "      <td>fcc85817-ef31-4056-9a96-b3730ccec522</td>\n",
       "      <td>Single-cell atlas of peripheral immune respons...</td>\n",
       "      <td>456e8b9b-f872-488b-871d-94534090a865.h5ad</td>\n",
       "      <td>44721</td>\n",
       "    </tr>\n",
       "    <tr>\n",
       "      <th>648</th>\n",
       "      <td>648</td>\n",
       "      <td>38833785-fac5-48fd-944a-0f62a4c23ed1</td>\n",
       "      <td>Construction of a human cell landscape at sing...</td>\n",
       "      <td>10.1038/s41586-020-2157-4</td>\n",
       "      <td>2adb1f8a-a6b1-4909-8ee8-484814e2d4bf</td>\n",
       "      <td>998d8dbd-2f42-4611-9973-2da95db46c29</td>\n",
       "      <td>Construction of a human cell landscape at sing...</td>\n",
       "      <td>2adb1f8a-a6b1-4909-8ee8-484814e2d4bf.h5ad</td>\n",
       "      <td>598266</td>\n",
       "    </tr>\n",
       "    <tr>\n",
       "      <th>649</th>\n",
       "      <td>649</td>\n",
       "      <td>5d445965-6f1a-4b68-ba3a-b8f765155d3a</td>\n",
       "      <td>A molecular cell atlas of the human lung from ...</td>\n",
       "      <td>10.1038/s41586-020-2922-4</td>\n",
       "      <td>e04daea4-4412-45b5-989e-76a9be070a89</td>\n",
       "      <td>d54c8b65-3e6c-4265-98aa-5f082a5f3816</td>\n",
       "      <td>Krasnow Lab Human Lung Cell Atlas, Smart-seq2</td>\n",
       "      <td>e04daea4-4412-45b5-989e-76a9be070a89.h5ad</td>\n",
       "      <td>9409</td>\n",
       "    </tr>\n",
       "    <tr>\n",
       "      <th>650</th>\n",
       "      <td>650</td>\n",
       "      <td>5d445965-6f1a-4b68-ba3a-b8f765155d3a</td>\n",
       "      <td>A molecular cell atlas of the human lung from ...</td>\n",
       "      <td>10.1038/s41586-020-2922-4</td>\n",
       "      <td>8c42cfd0-0b0a-46d5-910c-fc833d83c45e</td>\n",
       "      <td>76cf83ad-a3d6-45a7-ab58-b694a1ab0133</td>\n",
       "      <td>Krasnow Lab Human Lung Cell Atlas, 10X</td>\n",
       "      <td>8c42cfd0-0b0a-46d5-910c-fc833d83c45e.h5ad</td>\n",
       "      <td>65662</td>\n",
       "    </tr>\n",
       "  </tbody>\n",
       "</table>\n",
       "<p>651 rows × 9 columns</p>\n",
       "</div>"
      ],
      "text/plain": [
       "     soma_joinid                         collection_id  \\\n",
       "0              0  4dca242c-d302-4dba-a68f-4c61e7bad553   \n",
       "1              1  d17249d2-0e6e-4500-abb8-e6c93fa1ac6f   \n",
       "2              2  d17249d2-0e6e-4500-abb8-e6c93fa1ac6f   \n",
       "3              3  d17249d2-0e6e-4500-abb8-e6c93fa1ac6f   \n",
       "4              4  d17249d2-0e6e-4500-abb8-e6c93fa1ac6f   \n",
       "..           ...                                   ...   \n",
       "646          646  180bff9c-c8a5-4539-b13b-ddbc00d643e6   \n",
       "647          647  a72afd53-ab92-4511-88da-252fb0e26b9a   \n",
       "648          648  38833785-fac5-48fd-944a-0f62a4c23ed1   \n",
       "649          649  5d445965-6f1a-4b68-ba3a-b8f765155d3a   \n",
       "650          650  5d445965-6f1a-4b68-ba3a-b8f765155d3a   \n",
       "\n",
       "                                       collection_name  \\\n",
       "0    Comparative transcriptomics reveals human-spec...   \n",
       "1    Transcriptomic cytoarchitecture reveals princi...   \n",
       "2    Transcriptomic cytoarchitecture reveals princi...   \n",
       "3    Transcriptomic cytoarchitecture reveals princi...   \n",
       "4    Transcriptomic cytoarchitecture reveals princi...   \n",
       "..                                                 ...   \n",
       "646  Molecular characterization of selectively vuln...   \n",
       "647  Single-cell atlas of peripheral immune respons...   \n",
       "648  Construction of a human cell landscape at sing...   \n",
       "649  A molecular cell atlas of the human lung from ...   \n",
       "650  A molecular cell atlas of the human lung from ...   \n",
       "\n",
       "                 collection_doi                            dataset_id  \\\n",
       "0       10.1126/science.ade9516  2bdd3a2c-2ff4-4314-adf3-8a06b797a33a   \n",
       "1       10.1126/science.adf6812  f5b0810c-1664-4a62-ad06-be1d9964aa8b   \n",
       "2       10.1126/science.adf6812  e4ddac12-f48f-4455-8e8d-c2a48a683437   \n",
       "3       10.1126/science.adf6812  e2808a6e-e2ea-41b9-b38c-4a08f1677f02   \n",
       "4       10.1126/science.adf6812  d01c9dff-abd1-4825-bf30-2eb2ba74597e   \n",
       "..                          ...                                   ...   \n",
       "646  10.1038/s41593-020-00764-7  f9ad5649-f372-43e1-a3a8-423383e5a8a2   \n",
       "647   10.1038/s41591-020-0944-y  456e8b9b-f872-488b-871d-94534090a865   \n",
       "648   10.1038/s41586-020-2157-4  2adb1f8a-a6b1-4909-8ee8-484814e2d4bf   \n",
       "649   10.1038/s41586-020-2922-4  e04daea4-4412-45b5-989e-76a9be070a89   \n",
       "650   10.1038/s41586-020-2922-4  8c42cfd0-0b0a-46d5-910c-fc833d83c45e   \n",
       "\n",
       "                       dataset_version_id  \\\n",
       "0    7eb7f2fd-fd74-4c99-863c-97836415652e   \n",
       "1    d4427196-7876-4bdd-a929-ae4d177ec776   \n",
       "2    3280113b-7148-4a3e-98d4-015f443aab8a   \n",
       "3    dc092185-3b8e-4fcb-ae21-1dc106d683ac   \n",
       "4    c4959ded-83dc-4442-aac7-9a59bdb47801   \n",
       "..                                    ...   \n",
       "646  0912e658-ccd7-43e9-8d81-4349432115f9   \n",
       "647  fcc85817-ef31-4056-9a96-b3730ccec522   \n",
       "648  998d8dbd-2f42-4611-9973-2da95db46c29   \n",
       "649  d54c8b65-3e6c-4265-98aa-5f082a5f3816   \n",
       "650  76cf83ad-a3d6-45a7-ab58-b694a1ab0133   \n",
       "\n",
       "                                         dataset_title  \\\n",
       "0                              Human: Great apes study   \n",
       "1                      Dissection: Angular gyrus (AnG)   \n",
       "2               Supercluster: CGE-derived interneurons   \n",
       "3              Dissection: Primary auditory cortex(A1)   \n",
       "4    Supercluster: Deep layer (non-IT) excitatory n...   \n",
       "..                                                 ...   \n",
       "646  Molecular characterization of selectively vuln...   \n",
       "647  Single-cell atlas of peripheral immune respons...   \n",
       "648  Construction of a human cell landscape at sing...   \n",
       "649      Krasnow Lab Human Lung Cell Atlas, Smart-seq2   \n",
       "650             Krasnow Lab Human Lung Cell Atlas, 10X   \n",
       "\n",
       "                             dataset_h5ad_path  dataset_total_cell_count  \n",
       "0    2bdd3a2c-2ff4-4314-adf3-8a06b797a33a.h5ad                    156285  \n",
       "1    f5b0810c-1664-4a62-ad06-be1d9964aa8b.h5ad                    110752  \n",
       "2    e4ddac12-f48f-4455-8e8d-c2a48a683437.h5ad                    129495  \n",
       "3    e2808a6e-e2ea-41b9-b38c-4a08f1677f02.h5ad                    139054  \n",
       "4    d01c9dff-abd1-4825-bf30-2eb2ba74597e.h5ad                     92969  \n",
       "..                                         ...                       ...  \n",
       "646  f9ad5649-f372-43e1-a3a8-423383e5a8a2.h5ad                      8168  \n",
       "647  456e8b9b-f872-488b-871d-94534090a865.h5ad                     44721  \n",
       "648  2adb1f8a-a6b1-4909-8ee8-484814e2d4bf.h5ad                    598266  \n",
       "649  e04daea4-4412-45b5-989e-76a9be070a89.h5ad                      9409  \n",
       "650  8c42cfd0-0b0a-46d5-910c-fc833d83c45e.h5ad                     65662  \n",
       "\n",
       "[651 rows x 9 columns]"
      ]
     },
     "execution_count": 3,
     "metadata": {},
     "output_type": "execute_result"
    }
   ],
   "source": [
    "census_datasets = (\n",
    "    census[\"census_info\"][\"datasets\"]\n",
    "    .read()#column_names=[\"collection_name\", \"dataset_title\", \"dataset_id\", \"soma_joinid\"])\n",
    "    .concat()\n",
    "    .to_pandas()\n",
    ")\n",
    "census_datasets"
   ]
  },
  {
   "cell_type": "code",
   "execution_count": 4,
   "id": "025b2990-0a08-46df-8b21-d777df5d345d",
   "metadata": {},
   "outputs": [
    {
     "data": {
      "text/plain": [
       "<tiledbsoma._read_iters.TableReadIter at 0x7f40dc6315b0>"
      ]
     },
     "execution_count": 4,
     "metadata": {},
     "output_type": "execute_result"
    }
   ],
   "source": [
    "census[\"census_info\"][\"datasets\"].read()"
   ]
  },
  {
   "cell_type": "code",
   "execution_count": 5,
   "id": "a3c04ffe-33ca-466a-84e6-96246367736e",
   "metadata": {},
   "outputs": [],
   "source": [
    "#Choose Dataset\n",
    "dataset_id_query = census_datasets['dataset_id'].iloc[15]"
   ]
  },
  {
   "cell_type": "code",
   "execution_count": 6,
   "id": "7c504bb5-4fac-48e5-acda-5873a915e212",
   "metadata": {},
   "outputs": [
    {
     "data": {
      "text/plain": [
       "(216378, 26)"
      ]
     },
     "execution_count": 6,
     "metadata": {},
     "output_type": "execute_result"
    }
   ],
   "source": [
    "hs_obs = (\n",
    "    census[\"census_data\"][\"homo_sapiens\"]\n",
    "    .obs.read(value_filter=f\"is_primary_data == True and dataset_id == '{dataset_id_query}'\")\n",
    "    .concat()\n",
    "    .to_pandas()\n",
    ")\n",
    "hs_obs.shape"
   ]
  },
  {
   "cell_type": "code",
   "execution_count": 7,
   "id": "714577fb-cfdc-4eed-8e8e-e2201ba46899",
   "metadata": {},
   "outputs": [
    {
     "data": {
      "text/plain": [
       "Index(['soma_joinid', 'dataset_id', 'assay', 'assay_ontology_term_id',\n",
       "       'cell_type', 'cell_type_ontology_term_id', 'development_stage',\n",
       "       'development_stage_ontology_term_id', 'disease',\n",
       "       'disease_ontology_term_id', 'donor_id', 'is_primary_data',\n",
       "       'self_reported_ethnicity', 'self_reported_ethnicity_ontology_term_id',\n",
       "       'sex', 'sex_ontology_term_id', 'suspension_type', 'tissue',\n",
       "       'tissue_ontology_term_id', 'tissue_general',\n",
       "       'tissue_general_ontology_term_id', 'raw_sum', 'nnz', 'raw_mean_nnz',\n",
       "       'raw_variance_nnz', 'n_measured_vars'],\n",
       "      dtype='object')"
      ]
     },
     "execution_count": 7,
     "metadata": {},
     "output_type": "execute_result"
    }
   ],
   "source": [
    "hs_obs.columns"
   ]
  },
  {
   "cell_type": "code",
   "execution_count": 8,
   "id": "c61cd8e5-3865-4882-9b77-29079adb5008",
   "metadata": {},
   "outputs": [],
   "source": [
    "cell_subsampled_n = 1000\n",
    "#cell_subsampled_ids = hs_obs[\"soma_joinid\"].sample(cell_subsampled_n, random_state=1).tolist()\n",
    "cell_subsampled_ids = hs_obs[\"soma_joinid\"].tolist()"
   ]
  },
  {
   "cell_type": "code",
   "execution_count": 9,
   "id": "fa48a781-f74e-40e3-a7f3-1f6032117a8b",
   "metadata": {},
   "outputs": [
    {
     "data": {
      "text/plain": [
       "216378"
      ]
     },
     "execution_count": 9,
     "metadata": {},
     "output_type": "execute_result"
    }
   ],
   "source": [
    "len(cell_subsampled_ids)"
   ]
  },
  {
   "cell_type": "code",
   "execution_count": 10,
   "id": "40a96f40-421b-4f94-8f7b-4a35cb51fcc6",
   "metadata": {},
   "outputs": [],
   "source": [
    "adata_hs = cellxgene_census.get_anndata(\n",
    "    census,\n",
    "    organism=\"Homo sapiens\",\n",
    "    measurement_name=\"RNA\",\n",
    "    obs_coords=cell_subsampled_ids,\n",
    "    var_coords=None,\n",
    ")"
   ]
  },
  {
   "cell_type": "code",
   "execution_count": 11,
   "id": "2c511314-a2db-41e5-abc5-142878e3ad01",
   "metadata": {},
   "outputs": [
    {
     "data": {
      "text/plain": [
       "AnnData object with n_obs × n_vars = 216378 × 60664\n",
       "    obs: 'soma_joinid', 'dataset_id', 'assay', 'assay_ontology_term_id', 'cell_type', 'cell_type_ontology_term_id', 'development_stage', 'development_stage_ontology_term_id', 'disease', 'disease_ontology_term_id', 'donor_id', 'is_primary_data', 'self_reported_ethnicity', 'self_reported_ethnicity_ontology_term_id', 'sex', 'sex_ontology_term_id', 'suspension_type', 'tissue', 'tissue_ontology_term_id', 'tissue_general', 'tissue_general_ontology_term_id', 'raw_sum', 'nnz', 'raw_mean_nnz', 'raw_variance_nnz', 'n_measured_vars'\n",
       "    var: 'soma_joinid', 'feature_id', 'feature_name', 'feature_length', 'nnz', 'n_measured_obs'"
      ]
     },
     "execution_count": 11,
     "metadata": {},
     "output_type": "execute_result"
    }
   ],
   "source": [
    "adata_hs"
   ]
  },
  {
   "cell_type": "code",
   "execution_count": 24,
   "id": "23b282fb-a4c3-404f-82b2-3d7007256601",
   "metadata": {},
   "outputs": [],
   "source": [
    "import sentence_from_adata_generator"
   ]
  },
  {
   "cell_type": "code",
   "execution_count": 25,
   "id": "20dd671d-0ca7-40c6-9515-f18e8982d76f",
   "metadata": {},
   "outputs": [
    {
     "data": {
      "text/plain": [
       "<module 'sentence_from_adata_generator' from '/home/user/DATA1/Data/Xenium_lungcancer_10xdata/TrainingCELLama/sentence_from_adata_generator.py'>"
      ]
     },
     "execution_count": 25,
     "metadata": {},
     "output_type": "execute_result"
    }
   ],
   "source": [
    "from importlib import reload\n",
    "reload(sentence_from_adata_generator)"
   ]
  },
  {
   "cell_type": "code",
   "execution_count": 26,
   "id": "27f26ff5-0075-4734-9319-88c3662578f4",
   "metadata": {},
   "outputs": [],
   "source": [
    "num_samples = 1000  # Adjust based on the actual number of cells\n",
    "top_k_values = [16, 20, 24]\n",
    "obs_features_options = [None, ['tissue'], ['disease'], ['tissue_general'], ['assay']]\n",
    "n_hvgs_s=[500,1500,3000]\n"
   ]
  },
  {
   "cell_type": "code",
   "execution_count": null,
   "id": "760dafab-6571-4083-84d5-6907e0b688a8",
   "metadata": {
    "scrolled": true
   },
   "outputs": [
    {
     "name": "stdout",
     "output_type": "stream",
     "text": [
      "Preprocessing data...\n",
      "WARNING: adata.X seems to be already log-transformed.\n"
     ]
    },
    {
     "name": "stderr",
     "output_type": "stream",
     "text": [
      "/home/user/anaconda3/envs/lang/lib/python3.9/site-packages/scanpy/preprocessing/_highly_variable_genes.py:226: FutureWarning: The default of observed=False is deprecated and will be changed to True in a future version of pandas. Pass observed=False to retain current behavior or observed=True to adopt the future default and silence this warning.\n",
      "  disp_grouped = df.groupby(\"mean_bin\")[\"dispersions\"]\n"
     ]
    },
    {
     "name": "stdout",
     "output_type": "stream",
     "text": [
      "........ 500 16 None\n",
      "----sample examples----\n",
      "Texts: ['Top genes are CDH19, SCN7A, MT-CO1, ADGRB3, HIP1, MT-CYB, CLMN, NCAM2, EPB41L2, MT-ATP6, MT-ND1, MYH11, MT-ND4, IGFBP7, CASC15, and TIMP3.', 'Top genes are CDH19, SCN7A, MT-CO1, ADGRB3, NCAM2, MT-CO3, HES1, CLMN, AKT3, EPB41L2, MT-ND4, RHOB, MT-ATP6, COL5A3, TIMP3, and ELMO1.'], Label: 0.8480967879295349\n",
      "Texts: ['Top genes are CDH19, KAZN, NEGR1, C7, TIMP3, PLA2G5, GSN, EBF1, ENG, ACSM3, SOX5, NCAM2, CRISPLD2, TCF4, AKT3, and RPL10.', 'Top genes are FHL2, TIMP3, RAD51B, ABCA6, TRAV40, TRAV38-2DV8, TRAV36DV7, TPT1, TMSB4X, TMSB10, TM4SF1, TLR9, TIMP1, THBS4, TRAV8-2, and TFPI.'], Label: -0.040422022342681885\n",
      "Texts: ['Top genes are PLA2G5, MAML2, SPARCL1, NR2F2-AS1, TACC1, IGFBP5, AC007319.1, ADGRB3, GUCY1A2, CARMN, STEAP4, APBB2, ENPEP, RGS5-AS1, RGS5_ENSG00000143248, and SOX5.', 'Top genes are RPS18, RPL41, IGFBP7, RGS5_ENSG00000143248, RPS27, B2M, SPARCL1, RPS5, RPL23A, FABP4, RPL35, MT2A, TMSB4X, NDUFA4L2, ACTB, and RPS28.'], Label: -0.1239023432135582\n",
      "\t\t train_exmaples generated\n",
      "........ 500 16 ['tissue']\n",
      "----sample examples----\n",
      "Texts: ['Top genes are MT-CO2, MT-CO1, MT-CO3, MT-ATP6, MT-ND1, MT-CYB, EBF1, IGFBP7, RNF152, MT-ND3, BMP5, PLA2G5, EGFLAM, EPS8, MT-ND4, and PDGFRB. tissue of this cell is heart left ventricle.', 'Top genes are MT-CO1, TFPI, PLA2G5, IGFBP7, SLC16A12, EBF1, MT-CYB, MT-CO3, MT-CO2, ADGRB3, AC007319.1, NR2F2-AS1, GUCY1A1, MAML2, CPE, and MT-ND4. tissue of this cell is interventricular septum.'], Label: 0.0\n",
      "Texts: ['Top genes are HES1, JUNB, AKT3, ABCA6, DCN, ELMO1, FTL, GUK1, IER2, KAZN, UBC, LDB2, MAML2, MECOM, TIMP1, and MYO1B. tissue of this cell is left cardiac atrium.', 'Top genes are KAZN, TACC1, TIMP3, CDH19, EBF1, NEGR1, LDB2, PLA2G5, MT2A, ADAMTS4, C11orf96, HLA-E, MAML2, TFPI, FTH1, and GSN. tissue of this cell is right cardiac atrium.'], Label: 0.0\n",
      "Texts: ['Top genes are ADGRB3, RERG, AKT3, DCN, SOX5, TIMP3, MT-CO1, EBF2, RAD51B, CFD, IGFBP7, HIP1, FTL, EBF1, CDH19, and MT-CO3. tissue of this cell is left cardiac atrium.', 'Top genes are FHL2, SOX5, PRKCH, ABCC9, RAD51B, TIMP3, TLR9, TM4SF1, TMSB10, ABCA6, TIMP1, TPT1, TRAV36DV7, TRAV38-2DV8, TRAV40, and TMSB4X. tissue of this cell is apex of heart.'], Label: 0.0\n",
      "\t\t train_exmaples generated\n",
      "........ 500 16 ['disease']\n",
      "----sample examples----\n",
      "Texts: ['Top genes are FHL2, KIT, RPL41, GUK1, FTH1, ENG, MT-CO3, MT-CO1, JUNB, TRAV38-2DV8, TRAV8-2, TRIM34, TRAV36DV7, TPT1, TMSB4X, and TMSB10. disease of this cell is normal.', 'Top genes are CARMN, TBX2, ACTA2, EBF1, PDGFRB, RP11-759A24.3, SOX5, HIP1, FRMD3, PLA2G5, ISYNA1, DOCK8, SPECC1, NR2F2-AS1, APBB2, and MYH11. disease of this cell is normal.'], Label: -0.16552887856960297\n",
      "Texts: ['Top genes are FRMD3, TIMP3, PDGFRB, MT-ATP6, RGS5_ENSG00000143248, SOX5, IGFBP5, MT-CO3, EPS8, PLA2G5, SCN7A, SPARCL1, ACTA2, MT-CO1, GUCY1A2, and CARMN. disease of this cell is normal.', 'Top genes are MT-ND3, PLA2G5, TIMP3, SPARCL1, CARMN, EPS8, RP11-759A24.3, MT-ND2, IGFBP7, RNF152, DSCAML1, ADGRB3, MT-ATP6, ID3, TCF4, and PDGFRB. disease of this cell is normal.'], Label: 0.8692247271537781\n",
      "Texts: ['Top genes are ADAMTS9, FRMD3, PDGFRB, ABCC9, SPARCL1, TACC1, RAD51B, RP11-759A24.3, ADGRB3, CPM, EGFLAM, NEURL1B, GUCY1A2, RAPGEF5, RERG, and COL5A3. disease of this cell is normal.', 'Top genes are MT-CO1, IGFBP7, MT-ATP6, SPARCL1, MT-CYB, MGP, MT-ND4, MT-CO3, AGT, CPE, TIMP3, STEAP4, CST3, MT-CO2, FAU, and MT-ND5. disease of this cell is normal.'], Label: 0.3270048499107361\n",
      "\t\t train_exmaples generated\n",
      "........ 500 16 ['tissue_general']\n",
      "----sample examples----\n",
      "Texts: ['Top genes are MT-ND3, MT-ND4, MT-CYB, MT-CO3, MT-CO1, FHL2, MT-ATP6, MT-ND2, MT-CO2, SERF2, ELOB, MT-ND5, PRDX1, FTL, GUK1, and RPS2. tissue_general of this cell is heart.', 'Top genes are FHL2, TIMP3, CARMN, ADAMTS9, IGFBP5, FRMD3, MT-CO1, TLR9, TM4SF1, TMSB10, ABCA6, TMSB4X, TPT1, TRAV36DV7, TRAV38-2DV8, and TRAV40. tissue_general of this cell is heart.'], Label: 0.14678075909614563\n",
      "Texts: ['Top genes are TIMP3, FRMD3, TFPI, EPS8, SPARCL1, MAML2, EBF1, PLA2G5, GUCY1A2, RNF152, MEOX2, AC007319.1, SLC16A12, ARHGAP15, CRISPLD2, and SOX5. tissue_general of this cell is heart.', 'Top genes are ADAMTS9, RGS5_ENSG00000143248, MYO1B, EPS8, TFPI, PDGFRB, TIMP3, EGFLAM, BMP5, ADAMTS12, NFASC, RP11-759A24.3, FRMD3, CRISPLD2, AC007319.1, and ABCC9. tissue_general of this cell is heart.'], Label: 0.8871455788612366\n",
      "Texts: ['Top genes are IGFBP7, ADAMTS4, JUNB, CST3, TMSB4X, IFITM3, HSPA1A, LGALS1, RPL27A, RHOB, NOTCH3, DCN, ADAMTS1, UBB, ACTB, and HES1. tissue_general of this cell is heart.', 'Top genes are IGFBP7, JUNB, ID3, ADIRF, FABP4, CST3, IFITM3, RGS5_ENSG00000143248, RPS27, FOS, HIGD1B, RPL11, TMSB4X, CALM2, LGALS1, and ADAMTS1. tissue_general of this cell is heart.'], Label: 0.8922411799430847\n",
      "\t\t train_exmaples generated\n",
      "........ 500 16 ['assay']\n",
      "----sample examples----\n",
      "Texts: [\"Top genes are TIMP3, SOX5, GSN, CPM, FABP4, EPB41L2, TACC1, CARMN, EPS8, CFD, ADIRF, RPLP2, KAZN, PREX2, DOCK8, and ADCY3. assay of this cell is 10x 3' v3.\", \"Top genes are FHL2, ABCA6, TRAV40, TRAV38-2DV8, TRAV36DV7, TPT1, TMSB4X, TMSB10, TM4SF1, TLR9, TIMP3, TIMP1, THBS4, TFPI, TRAV8-2, and TCF4. assay of this cell is 10x 3' v3.\"], Label: 0.3082718253135681\n",
      "Texts: [\"Top genes are KAZN, DCN, NEGR1, CDH19, SCN7A, SPARCL1, C7, AC007319.1, EBF1, ABCA6, ACSM3, EBF2, F8, MECOM, AKT3, and PLA2G5. assay of this cell is 10x 3' v3.\", \"Top genes are FHL2, ACTB, ABCC9, HIP1, MAP2, TIMP3, ABCA6, TIMP1, TLR9, TM4SF1, TPT1, TMSB4X, THBS4, TRAV36DV7, TRAV38-2DV8, and TRAV40. assay of this cell is 10x 3' v3.\"], Label: -0.14111192524433136\n",
      "Texts: [\"Top genes are DACH1, SOX5, EBF2, MAML2, ADGRB3, RP11-759A24.3, GUCY1A1, NGF, NR2F2-AS1, FABP4, CARMN, SCN7A, MECOM, RGS5_ENSG00000143248, EBF1, and ADAMTS9. assay of this cell is 10x 3' v3.\", \"Top genes are FHL2, HIP1, MAML2, RP13-143G15.4, ADAMTS9, TCF4, TIMP3, RGS5-AS1, CAV1, PLEKHG1, JUNB, PTMA, IGFBP7, IGFBP5, ABCA6, and HSPA1A. assay of this cell is 10x 3' v3.\"], Label: 0.012578003108501434\n",
      "\t\t train_exmaples generated\n",
      "........ 500 20 None\n",
      "----sample examples----\n",
      "Texts: ['Top genes are IGFBP7, SPARCL1, SOX5, CARMN, MYH11, NR2F2-AS1, EBF1, KCNAB1, PLA2G5, ENG, ID1, CLMN, RERG, AKT3, TACC1, ID3, HES1, RAPGEF5, ADCY3, and ADIRF.', 'Top genes are PARP8, MAML2, AKT3, KCNAB1, FLI1, PRKCH, ARHGAP15, SERF2, MT-ND4, CD44, RPS7, RPS29, MT-CO2, MT-CO3, MT-ND3, HLA-A, MT-CYB, TAGLN2, CYBA, and SRGN.'], Label: -0.05593414977192879\n",
      "Texts: ['Top genes are ELMO1, EPAS1, FHL2, MAML2, CD44, TCF4, ARHGAP15, FLI1, FTL, MT2A, RAD51B, PRKCH, EPS8, TIMP3, FTH1, SRGN, PECAM1, S100A8, AC007319.1, and DOCK8.', 'Top genes are DOCK8, MT2A, CD44, TCF4, MAML2, ARHGAP15, KCNAB1, EPS8, FLI1, RAD51B, PRKCH, FTL, ELMO1, S100A8, CD38, EPAS1, EPB41L2, PARP8, APOLD1, and HIP1.'], Label: 0.8967341184616089\n",
      "Texts: ['Top genes are FHL2, ADAMTS9, APBB2, P2RY14, CARMN, TIMP3, TLR9, TM4SF1, TMSB10, ABCA6, TMSB4X, TPT1, TRAV36DV7, TRAV38-2DV8, TRAV40, TIMP1, THBS4, TFPI, TCF4, and ELOB.', 'Top genes are FHL2, ADAMTS9, APBB2, RPL10, TIMP1, TIMP3, TLR9, TM4SF1, ABCA6, TMSB10, TMSB4X, TPT1, TRAV36DV7, TRAV38-2DV8, TRAV40, THBS4, TFPI, TCF4, ELOB, and TBX2.'], Label: 0.9798272252082825\n",
      "\t\t train_exmaples generated\n",
      "........ 500 20 ['tissue']\n",
      "----sample examples----\n",
      "Texts: ['Top genes are FHL2, HIP1, RPS27, RPLP2, TIMP3, WARS1, GUCY1A1, ABCA6, TLR9, TM4SF1, TMSB10, TPT1, TRAV36DV7, TRAV38-2DV8, TRAV40, TMSB4X, TIMP1, THBS4, TFPI, and TCF4. tissue of this cell is apex of heart.', 'Top genes are EPAS1, MYO1B, EPB41L2, SPARCL1, HIGD1B, FRMD3, SPECC1, ADGRB3, APBB2, RIPOR3, P2RY14, EPS8, RAD51B, SLC16A12, FAM162B, RP13-143G15.4, GUCY1A2, ID3, AKT3, and THBS4. tissue of this cell is heart left ventricle.'], Label: 0.0\n",
      "Texts: ['Top genes are FHL2, HIP1, RPS27, RPLP2, TIMP3, WARS1, GUCY1A1, ABCA6, TLR9, TM4SF1, TMSB10, TPT1, TRAV36DV7, TRAV38-2DV8, TRAV40, TMSB4X, TIMP1, THBS4, TFPI, and TCF4. tissue of this cell is apex of heart.', 'Top genes are FHL2, CAV1, ACTB, ABCC9, APBB2, SRP14, RPS3A, AC003991.3, UBC, RPS7, RPS28, RHOB, PTMA, ABCA6, TLR9, TMSB4X, TMSB10, TPT1, TRAV36DV7, and TRAV38-2DV8. tissue of this cell is heart right ventricle.'], Label: 0.0\n",
      "Texts: ['Top genes are FHL2, ABCC9, TIMP3, RPL21, RPLP2, RPS8, GUCY1A1, RPL12, CAV1, TACC1, SPARCL1, TRAV8-2, TRAV40, TRAV38-2DV8, TRAV36DV7, SPECC1, TPT1, TMSB4X, TMSB10, and TM4SF1. tissue of this cell is heart right ventricle.', 'Top genes are KAZN, ABCC9, RPS23, JUNB, RPL18, RPL15, MT2A, ADAMTS9, IER2, TLR9, TM4SF1, TMSB10, TMSB4X, TRAV40, TRAV36DV7, TRAV38-2DV8, TIMP3, TRAV8-2, TPT1, and TIMP1. tissue of this cell is interventricular septum.'], Label: 0.0\n",
      "\t\t train_exmaples generated\n",
      "........ 500 20 ['disease']\n",
      "----sample examples----\n",
      "Texts: ['Top genes are SPARCL1, ADAMTS9, NGF, ADGRB3, CD38, PDGFRB, APBB2, EPS8, THBS4, RP13-143G15.4, DACH1, MYO1B, CLMN, ADAMTS9-AS1, IGFBP7, COL5A3, PLA2G5, EPAS1, ABCC9, and HEYL. disease of this cell is normal.', 'Top genes are FHL2, RPL21, APBB2, ACTB, GUCY1A1, TIMP1, TIMP3, TLR9, TM4SF1, TMSB10, TMSB4X, TPT1, TRAV36DV7, TRAV38-2DV8, TRAV40, THBS4, TFPI, TCF4, ELOB, and TBX2. disease of this cell is normal.'], Label: -0.2948455810546875\n",
      "Texts: ['Top genes are PLA2G5, FRMD3, MYO1B, CARMN, ADAMTS9, RIPOR3, ADGRB3, RAD51B, GUCY1A1, GUCY1A2, SOX5, MAML2, APBB2, CLMAT3, NGF, CD9, ABCC9, NEURL1B, CPM, and BMP5. disease of this cell is normal.', 'Top genes are FRMD3, ADGRB3, CARMN, PLA2G5, PDGFRB, RP13-143G15.4, RP11-759A24.3, NR2F2-AS1, MAML2, EBF2, EGFLAM, RAPGEF5, SOX5, LINC02237, ARHGAP15, BMP5, APBB2, CLMN, CD44, and GUCY1A2. disease of this cell is normal.'], Label: 0.9021431803703308\n",
      "Texts: ['Top genes are FHL2, RP13-143G15.4, CAV1, ABCC9, RPL21, GAPDH, MT2A, GUCY1A1, HSPA1A, MAML2, FRMD3, FTH1, TMSB4X, TRAV36DV7, TMSB10, TRAV38-2DV8, TRAV40, TRAV8-2, TRIM34, and TPT1. disease of this cell is normal.', 'Top genes are MT-ATP6, MT-CO1, MT-CO3, MT-CO2, MT-CYB, MT-ND3, MT-ND4, MT-ND1, B2M, MT-ND2, IFITM3, TMSB10, SPARCL1, RPS12, HLA-B, RPL10, RPL29, HLA-A, VWF, and RGCC. disease of this cell is normal.'], Label: -0.6433409452438354\n",
      "\t\t train_exmaples generated\n",
      "........ 500 20 ['tissue_general']\n",
      "----sample examples----\n",
      "Texts: ['Top genes are FHL2, IGFBP7, GUCY1A1, ABCC9, RPL10, FRMD3, WARS1, RP13-143G15.4, TIMP1, TIMP3, TLR9, TM4SF1, TRAV8-2, TPT1, TRAV36DV7, TRAV38-2DV8, TRAV40, TMSB10, TMSB4X, and THBS4. tissue_general of this cell is heart.', 'Top genes are FHL2, IGFBP7, ABCC9, GUCY1A1, THBS4, RPL10, TIMP1, TIMP3, TLR9, TM4SF1, ABCA6, TPT1, TRAV36DV7, TRAV38-2DV8, TRAV40, TRAV8-2, TMSB10, TMSB4X, TCF4, and TRIM34. tissue_general of this cell is heart.'], Label: 0.989663302898407\n",
      "Texts: ['Top genes are SPARCL1, ACTB, GUCY1A2, PLA2G5, MAML2, HIP1, PDGFRB, EBF1, MT-CYB, RIPOR3, FRMD3, AGT, RGS5-AS1, AC007319.1, GUCY1A1, ISYNA1, FABP4, RP13-143G15.4, CAV1, and RPL10. tissue_general of this cell is heart.', 'Top genes are ACTB, CAV1, UBC, GAPDH, HSPB1, TAGLN, FTH1, UQCRB, HSPA1A, SOX5, EEF1A1, RPL11, ACTA2, RPL6, PLA2G5, RPS27, TIMP3, RPL3, SRP14, and FHL2. tissue_general of this cell is heart.'], Label: -0.3319549262523651\n",
      "Texts: ['Top genes are PLA2G5, RAD51B, NR2F2-AS1, AKT3, BMP5, GUCY1A2, RIPOR3, LINC02237, PDGFRB, RNF152, CARMN, KCNAB1, TCF4, CASC15, RP11-759A24.3, AC007319.1, APBB2, EBF1, ACTA2, and ADAMTS9-AS1. tissue_general of this cell is heart.', 'Top genes are PARP8, FLI1, ARHGAP15, ELMO1, AKT3, DOCK8, MT-CO3, CD69, F8, TMSB4X, TSC22D3, PRKCH, KCNAB1, RP11-759A24.3, MT-CYB, HLA-E, HLA-A, ID3, TM4SF1, and IFI27. tissue_general of this cell is heart.'], Label: -0.17008933424949646\n",
      "\t\t train_exmaples generated\n",
      "........ 500 20 ['assay']\n",
      "----sample examples----\n",
      "Texts: [\"Top genes are MT-CO1, FHL2, MT-CO3, MT-CO2, MT-CYB, RPL11, MT-ATP6, MT-ND4, CD59, TIMP3, IGFBP7, IFI27, TFPI, THBS4, TIMP1, TLR9, TM4SF1, TMSB10, TMSB4X, and TPT1. assay of this cell is 10x 3' v3.\", \"Top genes are FHL2, MT-CO1, MT-ATP6, MT-CYB, MT-CO3, MT-CO2, GAPDH, MT-ND3, RPL11, RPLP2, IER2, ACTB, MT-ND4, TMSB10, TIMP1, TPT1, TLR9, TRAV36DV7, TRAV38-2DV8, and TRAV40. assay of this cell is 10x 3' v3.\"], Label: 0.942544162273407\n",
      "Texts: [\"Top genes are FHL2, RP13-143G15.4, THBS4, ABCC9, CAV1, ACTB, TIMP3, CARMN, RPS28, TIMP1, TLR9, TM4SF1, ABCA6, TPT1, TRAV36DV7, TRAV38-2DV8, TRAV40, TMSB10, TMSB4X, and TFPI. assay of this cell is 10x 3' v3.\", \"Top genes are FHL2, RP13-143G15.4, ABCC9, CAV1, ACTB, TIMP3, ABCA6, TIMP1, TLR9, TM4SF1, TPT1, TMSB4X, TRAV36DV7, TRAV38-2DV8, TRAV40, TMSB10, THBS4, TFPI, TCF4, and ELOB. assay of this cell is 10x 3' v3.\"], Label: 0.9950894117355347\n",
      "Texts: [\"Top genes are APBB2, ABCA6, TCF4, IGFBP7, RERG, EBF2, CDH19, EPS8, MAML2, EPAS1, NEGR1, ADCY3, HES1, MYO1B, GGT5, RPS24, COL5A3, KAZN, PDGFRB, and DENND2A. assay of this cell is 10x 3' v3.\", \"Top genes are SPARCL1, RP11-759A24.3, RAD51B, PLA2G5, EBF1, APBB2, DENND2A, LINC01197, TFPI, PDGFRB, EGFLAM, MYO1B, ADGRB3, RGL3, HEYL, SOX5, AC003991.3, NFASC, KCNAB1, and MAP2. assay of this cell is 10x 3' v3.\"], Label: 0.030566709116101265\n",
      "\t\t train_exmaples generated\n",
      "........ 500 24 None\n",
      "----sample examples----\n",
      "Texts: ['Top genes are MT-ATP6, MT-CO1, MT-ND4, MT2A, IGFBP7, MT-CYB, MT-CO3, MT-ND3, MT-ND1, MT-CO2, MT1M, TAGLN, SPARCL1, TPT1, RPL10, RGS5_ENSG00000143248, C11orf96, RPS12, MT-ND2, ACTB, ID3, FTH1, RPL13, and RPL30.', 'Top genes are ACSM3, APBB2, PLA2G5, MECOM, TCF4, SCN7A, NEGR1, EBF1, NCAM2, DCN, C7, HIP1, GSN, CDH19, EPB41L2, LDB2, EBF2, TFPI, ABCA6, TAGLN, PREX2, ANXA1, MT-CO1, and CASC15.'], Label: -0.5025472044944763\n",
      "Texts: ['Top genes are TIMP3, NR2F2-AS1, PLA2G5, GUCY1A2, RGS5_ENSG00000143248, FRMD3, EPS8, RNF152, AC007319.1, SOX5, ADGRB3, MAML2, EBF2, ADAMTS12, MYO1B, TCF4, CARMN, EPAS1, DENND2A, CD44, MAP2, AKT3, CD9, and GUCY1B1.', 'Top genes are EBF1, MECOM, SOX5, MT2A, MT1M, DOCK8, AC007319.1, FABP4, RPLP2, EGFLAM, APBB2, CD38, RPL13, TACC1, ADAMTS9, RPL41, KAZN, MEOX2, JUNB, RPS2, GSN, EPS8, EPB41L2, and CARMN.'], Label: -0.11879941076040268\n",
      "Texts: ['Top genes are FHL2, RP13-143G15.4, CAV1, ACTB, RPS27, IGFBP7, TRAV40, TRAV38-2DV8, TRAV36DV7, TPT1, TMSB4X, TMSB10, TM4SF1, TLR9, TIMP3, TIMP1, ABCA6, THBS4, TFPI, TCF4, ELOB, TBX2, TAGLN2, and TAGLN.', 'Top genes are FHL2, RP13-143G15.4, THBS4, CAV1, ACTB, IGFBP7, TRAV40, TRAV38-2DV8, TRAV36DV7, TPT1, TMSB4X, TMSB10, TM4SF1, TLR9, TIMP3, TIMP1, ABCA6, TFPI, TCF4, ELOB, TBX2, TAGLN2, TAGLN, and TACC1.'], Label: 0.9946710467338562\n",
      "\t\t train_exmaples generated\n",
      "........ 500 24 ['tissue']\n",
      "----sample examples----\n",
      "Texts: ['Top genes are FHL2, ABCC9, TIMP3, IGFBP7, SOX5, AKT3, P2RY14, EPAS1, TLR9, TM4SF1, ABCA6, TMSB4X, TPT1, TRAV36DV7, TRAV38-2DV8, TIMP1, TMSB10, THBS4, TFPI, TCF4, ELOB, TBX2, TAGLN2, and TAGLN. tissue of this cell is interventricular septum.', 'Top genes are FHL2, ABCC9, TIMP3, EPAS1, IGFBP7, ABCA6, TRAV40, TRAV38-2DV8, TRAV36DV7, TPT1, TMSB4X, TMSB10, TM4SF1, TLR9, TIMP1, THBS4, TFPI, TCF4, ELOB, TBX2, TAGLN2, TAGLN, TACC1, and STEAP4. tissue of this cell is apex of heart.'], Label: 0.0\n",
      "Texts: ['Top genes are TIMP3, EBF1, NEGR1, MT-CYB, TFPI, MT-CO1, CFD, DCN, ACSM3, COL5A3, MT-CO2, TACC1, EPS8, MT-ND5, MT-ND4, EBF2, IGFBP7, AC007319.1, MGP, GSN, MECOM, CRISPLD2, NCAM2, and ADGRB3. tissue of this cell is interventricular septum.', 'Top genes are SOX5, FHL2, TCF4, MT-CO1, RPL21, SLC16A12, AKT3, GSN, ADAMTS9, RPL10, TIMP1, TIMP3, TLR9, TMSB10, TMSB4X, TPT1, TRAV36DV7, TRAV38-2DV8, TM4SF1, THBS4, ELOB, TRAV40, TBX2, and TAGLN2. tissue of this cell is heart left ventricle.'], Label: 0.0\n",
      "Texts: ['Top genes are RAPGEF5, LDB2, ANO2, VWF, PTPRB, AC007319.1, PECAM1, EGFL7, RAD51B, PLEKHG1, PRKCH, MT-CO2, TACC1, MT-ND3, RP11-759A24.3, FLT1, F8, KLF2, RGL3, GSN, TIMP3, IGFBP7, CAV1, and NR2F2-AS1. tissue of this cell is left cardiac atrium.', 'Top genes are MT-CO3, MT-CO1, B2M, MT-ATP6, TMSB4X, HLA-C, RPL13, TSC22D3, MT-ND1, HLA-A, RPLP1, RPL28, RPL10, SRGN, RPS27, RPS4X, RPL15, RPL19, RPS15A, RPS14, RPL34, RPL37, RPL41, and HLA-E. tissue of this cell is heart left ventricle.'], Label: 0.0\n",
      "\t\t train_exmaples generated\n",
      "........ 500 24 ['disease']\n"
     ]
    }
   ],
   "source": [
    "sentence_from_adata_generator.generate_and_save_examples(adata_hs, num_samples, top_k_values, obs_features_options, \n",
    "                                                         n_hvgs_s, save_file = f'./sentence_examples/temp_{dataset_id_query}.json')"
   ]
  },
  {
   "cell_type": "code",
   "execution_count": null,
   "id": "3f4f9d4f-f82f-4d3f-a3eb-caa036ebff9b",
   "metadata": {},
   "outputs": [],
   "source": []
  },
  {
   "cell_type": "code",
   "execution_count": null,
   "id": "584ab5f2-535a-462c-a095-e5f4b7fb7b64",
   "metadata": {},
   "outputs": [],
   "source": []
  }
 ],
 "metadata": {
  "kernelspec": {
   "display_name": "Python 3 (ipykernel)",
   "language": "python",
   "name": "python3"
  },
  "language_info": {
   "codemirror_mode": {
    "name": "ipython",
    "version": 3
   },
   "file_extension": ".py",
   "mimetype": "text/x-python",
   "name": "python",
   "nbconvert_exporter": "python",
   "pygments_lexer": "ipython3",
   "version": "3.9.18"
  }
 },
 "nbformat": 4,
 "nbformat_minor": 5
}
